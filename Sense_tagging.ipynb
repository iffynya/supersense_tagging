{
 "cells": [
  {
   "cell_type": "markdown",
   "id": "f9ad0202",
   "metadata": {},
   "source": [
    "## Notebook for tagging senses\n",
    "\n",
    "This notebook is a template for tagging the WordNet `synsets` of different ambiguous words in context.\n",
    "\n",
    "- Once a `synset` is obtained, we can map that to `synset.lexname()` to identify the supersense.\n",
    "- If no `synset` seems like a good chance, simply write \"other\" instead."
   ]
  },
  {
   "cell_type": "code",
   "execution_count": 1,
   "id": "6bd4f802",
   "metadata": {},
   "outputs": [],
   "source": [
    "from nltk.corpus import wordnet as wn\n",
    "import pandas as pd\n",
    "from IPython.display import clear_output\n",
    "import nltk"
   ]
  },
  {
   "cell_type": "code",
   "execution_count": 2,
   "id": "841d8c80",
   "metadata": {},
   "outputs": [
    {
     "name": "stderr",
     "output_type": "stream",
     "text": [
      "[nltk_data] Downloading package punkt to\n",
      "[nltk_data]     /Users/ifunanyaokoroma/nltk_data...\n",
      "[nltk_data]   Package punkt is already up-to-date!\n",
      "[nltk_data] Downloading package omw-1.4 to\n",
      "[nltk_data]     /Users/ifunanyaokoroma/nltk_data...\n",
      "[nltk_data]   Package omw-1.4 is already up-to-date!\n",
      "[nltk_data] Downloading package wordnet to\n",
      "[nltk_data]     /Users/ifunanyaokoroma/nltk_data...\n",
      "[nltk_data]   Package wordnet is already up-to-date!\n"
     ]
    },
    {
     "data": {
      "text/plain": [
       "True"
      ]
     },
     "execution_count": 2,
     "metadata": {},
     "output_type": "execute_result"
    }
   ],
   "source": [
    "nltk.download(\"punkt\")\n",
    "nltk.download(\"omw-1.4\")\n",
    "nltk.download('wordnet')"
   ]
  },
  {
   "cell_type": "code",
   "execution_count": 3,
   "id": "b46798f7",
   "metadata": {},
   "outputs": [],
   "source": [
    "### Get lexname for each synset, i.e., s.lexname() \n",
    "### lexname is = supersense"
   ]
  },
  {
   "cell_type": "markdown",
   "id": "7f80340c",
   "metadata": {},
   "source": [
    "## Tagging"
   ]
  },
  {
   "cell_type": "code",
   "execution_count": 4,
   "id": "883c9f42",
   "metadata": {},
   "outputs": [
    {
     "data": {
      "text/html": [
       "<div>\n",
       "<style scoped>\n",
       "    .dataframe tbody tr th:only-of-type {\n",
       "        vertical-align: middle;\n",
       "    }\n",
       "\n",
       "    .dataframe tbody tr th {\n",
       "        vertical-align: top;\n",
       "    }\n",
       "\n",
       "    .dataframe thead th {\n",
       "        text-align: right;\n",
       "    }\n",
       "</style>\n",
       "<table border=\"1\" class=\"dataframe\">\n",
       "  <thead>\n",
       "    <tr style=\"text-align: right;\">\n",
       "      <th></th>\n",
       "      <th>word</th>\n",
       "      <th>sentence</th>\n",
       "      <th>context</th>\n",
       "      <th>supersense_IO</th>\n",
       "      <th>comments</th>\n",
       "      <th>Class</th>\n",
       "    </tr>\n",
       "  </thead>\n",
       "  <tbody>\n",
       "    <tr>\n",
       "      <th>0</th>\n",
       "      <td>bat</td>\n",
       "      <td>He saw a fruit bat.</td>\n",
       "      <td>M1_b</td>\n",
       "      <td>animal</td>\n",
       "      <td>NaN</td>\n",
       "      <td>N</td>\n",
       "    </tr>\n",
       "    <tr>\n",
       "      <th>1</th>\n",
       "      <td>bat</td>\n",
       "      <td>He saw a furry bat.</td>\n",
       "      <td>M1_a</td>\n",
       "      <td>animal</td>\n",
       "      <td>NaN</td>\n",
       "      <td>N</td>\n",
       "    </tr>\n",
       "    <tr>\n",
       "      <th>2</th>\n",
       "      <td>bat</td>\n",
       "      <td>He saw a baseball bat.</td>\n",
       "      <td>M2_b</td>\n",
       "      <td>artifact</td>\n",
       "      <td>NaN</td>\n",
       "      <td>N</td>\n",
       "    </tr>\n",
       "    <tr>\n",
       "      <th>3</th>\n",
       "      <td>bat</td>\n",
       "      <td>He saw a wooden bat.</td>\n",
       "      <td>M2_a</td>\n",
       "      <td>artifact</td>\n",
       "      <td>NaN</td>\n",
       "      <td>N</td>\n",
       "    </tr>\n",
       "    <tr>\n",
       "      <th>4</th>\n",
       "      <td>act</td>\n",
       "      <td>It was a comedic act.</td>\n",
       "      <td>M2_b</td>\n",
       "      <td>NaN</td>\n",
       "      <td>NaN</td>\n",
       "      <td>N</td>\n",
       "    </tr>\n",
       "  </tbody>\n",
       "</table>\n",
       "</div>"
      ],
      "text/plain": [
       "  word                sentence context supersense_IO  comments Class\n",
       "0  bat     He saw a fruit bat.    M1_b        animal       NaN     N\n",
       "1  bat     He saw a furry bat.    M1_a        animal       NaN     N\n",
       "2  bat  He saw a baseball bat.    M2_b      artifact       NaN     N\n",
       "3  bat    He saw a wooden bat.    M2_a      artifact       NaN     N\n",
       "4  act   It was a comedic act.    M2_b           NaN       NaN     N"
      ]
     },
     "execution_count": 4,
     "metadata": {},
     "output_type": "execute_result"
    }
   ],
   "source": [
    "### Sentences to tag\n",
    "df_stims = pd.read_csv(\"data/raw/rawc_sentences.csv\")\n",
    "df_stims.head(5)"
   ]
  },
  {
   "cell_type": "code",
   "execution_count": 5,
   "id": "4e13d15f",
   "metadata": {
    "scrolled": true
   },
   "outputs": [
    {
     "name": "stdout",
     "output_type": "stream",
     "text": [
      "36 sentences tagged.\n"
     ]
    }
   ],
   "source": [
    "### Which sentences have already been tagged?\n",
    "with open(\"data/output/rawc_tagging.txt\", \"r\") as f:\n",
    "    num_sentences = len(f.readlines())\n",
    "print(\"{x} sentences tagged.\".format(x = num_sentences))"
   ]
  },
  {
   "cell_type": "code",
   "execution_count": null,
   "id": "525858c5",
   "metadata": {},
   "outputs": [
    {
     "name": "stdout",
     "output_type": "stream",
     "text": [
      "They called the debt.\n",
      "\n",
      "\n",
      "name.v.01: assign a specified (usually proper) proper name to\n",
      "\n",
      "call.v.02: ascribe a quality to or give a name of a common noun that reflects a quality\n",
      "\n",
      "call.v.03: get or try to get into communication (with someone) by telephone\n",
      "\n",
      "shout.v.02: utter a sudden loud cry\n",
      "\n",
      "call.v.05: order, request, or command to come\n",
      "\n",
      "visit.v.03: pay a brief visit\n",
      "\n",
      "call.v.07: call a meeting; invite or command to meet\n",
      "\n",
      "call.v.08: read aloud to check for omissions or absentees\n",
      "\n",
      "call.v.09: send a message or attempt to reach someone by radio, phone, etc.; make a signal to in order to transmit a message\n",
      "\n",
      "call.v.10: utter a characteristic note or cry\n",
      "\n",
      "call.v.11: stop or postpone because of adverse conditions, such as bad weather\n",
      "\n",
      "address.v.06: greet, as with a prescribed form, title, or name\n",
      "\n",
      "call.v.13: make a stop in a harbour\n",
      "\n",
      "call.v.14: demand payment of (a loan)\n",
      "\n",
      "bid.v.04: make a demand, as for a card or a suit or a show of hands\n",
      "\n",
      "call.v.16: give the calls (to the dancers) for a square dance\n",
      "\n",
      "call.v.17: indicate a decision in regard to\n",
      "\n",
      "predict.v.01: make a prediction about; tell in advance\n",
      "\n",
      "call.v.19: require the presentation of for redemption before maturation\n",
      "\n",
      "call.v.20: challenge (somebody) to make good on a statement; charge with or censure for an offense\n",
      "\n",
      "call.v.21: declare in the capacity of an umpire or referee\n",
      "\n",
      "call.v.22: lure by imitating the characteristic call of an animal\n",
      "\n",
      "call.v.23: order or request or give a command for\n",
      "\n",
      "call.v.24: order, summon, or request for a specific duty or activity, work, role\n",
      "\n",
      "call.v.25: utter in a loud voice or announce\n",
      "\n",
      "call.v.26: challenge the sincerity or truthfulness of\n",
      "\n",
      "call.v.27: consider or regard as being\n",
      "\n",
      "call.v.28: rouse somebody from sleep with a call\n",
      "\n"
     ]
    }
   ],
   "source": [
    "tags = []\n",
    "\n",
    "for index, row in df_stims[num_sentences:].iterrows():\n",
    "    print(row['sentence'])\n",
    "    print(\"\\n\")\n",
    "    pos = \".{x}.\".format(x=row['Class'].lower())\n",
    "    synsets = [i for i in wn.synsets(row['word']) if pos in i.name()]\n",
    "    \n",
    "    for s in synsets:\n",
    "        print(\"{x}: {y}\\n\".format(x = s.name(), y = s.definition()))\n",
    "    \n",
    "    tag = input(\"> \")    \n",
    "    tags.append(tag)\n",
    "    \n",
    "    with open(\"data/output/rawc_tagging.txt\", \"a\") as f:\n",
    "        f.write(\"{sentence},{word},{tag}\\n\".format(sentence = row['sentence'],\n",
    "                                                word = row['word'],\n",
    "                                                tag = tag))\n",
    "    \n",
    "    clear_output()\n",
    "    "
   ]
  },
  {
   "cell_type": "code",
   "execution_count": null,
   "id": "14bfe1c6",
   "metadata": {},
   "outputs": [],
   "source": [
    "df_stims['synset'] = tags"
   ]
  },
  {
   "cell_type": "code",
   "execution_count": null,
   "id": "7756f728",
   "metadata": {},
   "outputs": [],
   "source": []
  }
 ],
 "metadata": {
  "kernelspec": {
   "display_name": "Python 3 (ipykernel)",
   "language": "python",
   "name": "python3"
  },
  "language_info": {
   "codemirror_mode": {
    "name": "ipython",
    "version": 3
   },
   "file_extension": ".py",
   "mimetype": "text/x-python",
   "name": "python",
   "nbconvert_exporter": "python",
   "pygments_lexer": "ipython3",
   "version": "3.9.12"
  }
 },
 "nbformat": 4,
 "nbformat_minor": 5
}
